{
 "cells": [
  {
   "cell_type": "markdown",
   "id": "63ca1dd6-756c-4348-8143-6e25f64b0a9d",
   "metadata": {},
   "source": [
    "<p style=\"text-align:center\">\n",
    "    <a href=\"https://skills.network\" target=\"_blank\">\n",
    "    <img src=\"https://cf-courses-data.s3.us.cloud-object-storage.appdomain.cloud/assets/logos/SN_web_lightmode.png\" width=\"200\" alt=\"Skills Network Logo\">\n",
    "    </a>\n",
    "</p>\n",
    "\n",
    "\n",
    "# Simple Linear Regression\n",
    "\n",
    "Estimated time needed: **15** minutes\n",
    "    \n",
    "\n",
    "## Objectives\n",
    "\n",
    "After completing this lab, you will be able to:\n",
    "\n",
    "* Use scikit-learn to implement simple linear regression\n",
    "* Create, train, and test a linear regression model on real data\n"
   ]
  },
  {
   "cell_type": "markdown",
   "id": "c66c9081-2874-40e4-9017-9691c1a36bd0",
   "metadata": {},
   "source": [
    "### Import needed packages\n"
   ]
  },
  {
   "cell_type": "markdown",
   "id": "d5e0dcb2-85de-432d-bba8-895d1ce5ad07",
   "metadata": {},
   "source": [
    "For this lab, you will need to have the following packages:\n",
    " - NumPy\n",
    " - Matplotlib\n",
    " - Pandas\n",
    " - Scikit-learn\n",
    "\n",
    "To avoid issues importing these libraries, you may execute the following cell to ensure they are available.\n"
   ]
  },
  {
   "cell_type": "code",
   "execution_count": null,
   "id": "f5ca1514-ee50-4c5e-bb62-6861e225d52d",
   "metadata": {},
   "outputs": [],
   "source": [
    "!pip install numpy==2.2.0\n",
    "!pip install pandas==2.2.3\n",
    "!pip install scikit-learn==1.6.0\n",
    "!pip install matplotlib==3.9.3"
   ]
  },
  {
   "cell_type": "markdown",
   "id": "5089f7f3-d9f3-4845-b07b-64196f3088d2",
   "metadata": {},
   "source": [
    "Now, you can import these libraries.\n"
   ]
  },
  {
   "cell_type": "code",
   "execution_count": 1,
   "id": "99c993b0-a9c5-448d-90a8-49f24b3da96f",
   "metadata": {},
   "outputs": [],
   "source": [
    "import numpy as np\n",
    "import matplotlib.pyplot as plt\n",
    "import pandas as pd\n",
    "%matplotlib inline"
   ]
  },
  {
   "cell_type": "markdown",
   "id": "6f1031ee-48e9-4d70-a299-e758664ff865",
   "metadata": {},
   "source": [
    "## Load the data\n",
    "The dataset you will use resides at the following URL. You can use the URL directly with the Pandas library to load the dataset.\n"
   ]
  },
  {
   "cell_type": "code",
   "execution_count": 2,
   "id": "833a3571-ef0d-48c4-bdbc-0f6442b2444f",
   "metadata": {},
   "outputs": [],
   "source": [
    "url= \"https://cf-courses-data.s3.us.cloud-object-storage.appdomain.cloud/IBMDeveloperSkillsNetwork-ML0101EN-SkillsNetwork/labs/Module%202/data/FuelConsumptionCo2.csv\""
   ]
  },
  {
   "cell_type": "code",
   "execution_count": 3,
   "id": "37f7fa7e-81e3-490b-b4f4-679a3db82b1d",
   "metadata": {},
   "outputs": [],
   "source": [
    "df=pd.read_csv(url)"
   ]
  },
  {
   "cell_type": "code",
   "execution_count": 4,
   "id": "2d5e5389-b218-4c67-94a9-2bfbf68b1b80",
   "metadata": {},
   "outputs": [
    {
     "data": {
      "text/html": [
       "<div>\n",
       "<style scoped>\n",
       "    .dataframe tbody tr th:only-of-type {\n",
       "        vertical-align: middle;\n",
       "    }\n",
       "\n",
       "    .dataframe tbody tr th {\n",
       "        vertical-align: top;\n",
       "    }\n",
       "\n",
       "    .dataframe thead th {\n",
       "        text-align: right;\n",
       "    }\n",
       "</style>\n",
       "<table border=\"1\" class=\"dataframe\">\n",
       "  <thead>\n",
       "    <tr style=\"text-align: right;\">\n",
       "      <th></th>\n",
       "      <th>MODELYEAR</th>\n",
       "      <th>MAKE</th>\n",
       "      <th>MODEL</th>\n",
       "      <th>VEHICLECLASS</th>\n",
       "      <th>ENGINESIZE</th>\n",
       "      <th>CYLINDERS</th>\n",
       "      <th>TRANSMISSION</th>\n",
       "      <th>FUELTYPE</th>\n",
       "      <th>FUELCONSUMPTION_CITY</th>\n",
       "      <th>FUELCONSUMPTION_HWY</th>\n",
       "      <th>FUELCONSUMPTION_COMB</th>\n",
       "      <th>FUELCONSUMPTION_COMB_MPG</th>\n",
       "      <th>CO2EMISSIONS</th>\n",
       "    </tr>\n",
       "  </thead>\n",
       "  <tbody>\n",
       "    <tr>\n",
       "      <th>447</th>\n",
       "      <td>2014</td>\n",
       "      <td>GMC</td>\n",
       "      <td>SAVANA 2500 PASSENGER</td>\n",
       "      <td>VAN - PASSENGER</td>\n",
       "      <td>4.8</td>\n",
       "      <td>8</td>\n",
       "      <td>A6</td>\n",
       "      <td>X</td>\n",
       "      <td>21.1</td>\n",
       "      <td>14.2</td>\n",
       "      <td>18.0</td>\n",
       "      <td>16</td>\n",
       "      <td>414</td>\n",
       "    </tr>\n",
       "    <tr>\n",
       "      <th>126</th>\n",
       "      <td>2014</td>\n",
       "      <td>BMW</td>\n",
       "      <td>X1 xDRIVE28i</td>\n",
       "      <td>SUV - SMALL</td>\n",
       "      <td>2.0</td>\n",
       "      <td>4</td>\n",
       "      <td>A8</td>\n",
       "      <td>Z</td>\n",
       "      <td>10.6</td>\n",
       "      <td>7.2</td>\n",
       "      <td>9.1</td>\n",
       "      <td>31</td>\n",
       "      <td>209</td>\n",
       "    </tr>\n",
       "    <tr>\n",
       "      <th>764</th>\n",
       "      <td>2014</td>\n",
       "      <td>MERCEDES-BENZ</td>\n",
       "      <td>ML 350 BLUETEC 4MATIC</td>\n",
       "      <td>SUV - STANDARD</td>\n",
       "      <td>3.0</td>\n",
       "      <td>6</td>\n",
       "      <td>AS7</td>\n",
       "      <td>D</td>\n",
       "      <td>11.8</td>\n",
       "      <td>8.5</td>\n",
       "      <td>10.3</td>\n",
       "      <td>27</td>\n",
       "      <td>278</td>\n",
       "    </tr>\n",
       "    <tr>\n",
       "      <th>909</th>\n",
       "      <td>2014</td>\n",
       "      <td>RAM</td>\n",
       "      <td>1500 (MDS)</td>\n",
       "      <td>PICKUP TRUCK - STANDARD</td>\n",
       "      <td>5.7</td>\n",
       "      <td>8</td>\n",
       "      <td>A6</td>\n",
       "      <td>X</td>\n",
       "      <td>17.1</td>\n",
       "      <td>12.0</td>\n",
       "      <td>14.8</td>\n",
       "      <td>19</td>\n",
       "      <td>340</td>\n",
       "    </tr>\n",
       "    <tr>\n",
       "      <th>1008</th>\n",
       "      <td>2014</td>\n",
       "      <td>TOYOTA</td>\n",
       "      <td>VENZA</td>\n",
       "      <td>SUV - SMALL</td>\n",
       "      <td>2.7</td>\n",
       "      <td>4</td>\n",
       "      <td>AS6</td>\n",
       "      <td>X</td>\n",
       "      <td>11.4</td>\n",
       "      <td>8.2</td>\n",
       "      <td>10.0</td>\n",
       "      <td>28</td>\n",
       "      <td>230</td>\n",
       "    </tr>\n",
       "  </tbody>\n",
       "</table>\n",
       "</div>"
      ],
      "text/plain": [
       "      MODELYEAR           MAKE                  MODEL  \\\n",
       "447        2014            GMC  SAVANA 2500 PASSENGER   \n",
       "126        2014            BMW           X1 xDRIVE28i   \n",
       "764        2014  MERCEDES-BENZ  ML 350 BLUETEC 4MATIC   \n",
       "909        2014            RAM             1500 (MDS)   \n",
       "1008       2014         TOYOTA                  VENZA   \n",
       "\n",
       "                 VEHICLECLASS  ENGINESIZE  CYLINDERS TRANSMISSION FUELTYPE  \\\n",
       "447           VAN - PASSENGER         4.8          8           A6        X   \n",
       "126               SUV - SMALL         2.0          4           A8        Z   \n",
       "764            SUV - STANDARD         3.0          6          AS7        D   \n",
       "909   PICKUP TRUCK - STANDARD         5.7          8           A6        X   \n",
       "1008              SUV - SMALL         2.7          4          AS6        X   \n",
       "\n",
       "      FUELCONSUMPTION_CITY  FUELCONSUMPTION_HWY  FUELCONSUMPTION_COMB  \\\n",
       "447                   21.1                 14.2                  18.0   \n",
       "126                   10.6                  7.2                   9.1   \n",
       "764                   11.8                  8.5                  10.3   \n",
       "909                   17.1                 12.0                  14.8   \n",
       "1008                  11.4                  8.2                  10.0   \n",
       "\n",
       "      FUELCONSUMPTION_COMB_MPG  CO2EMISSIONS  \n",
       "447                         16           414  \n",
       "126                         31           209  \n",
       "764                         27           278  \n",
       "909                         19           340  \n",
       "1008                        28           230  "
      ]
     },
     "execution_count": 4,
     "metadata": {},
     "output_type": "execute_result"
    }
   ],
   "source": [
    "# verify successful load with some randomly selected records\n",
    "df.sample(5)"
   ]
  },
  {
   "cell_type": "markdown",
   "id": "520e0f15-a82a-4026-838c-351f037e00b6",
   "metadata": {},
   "source": [
    "\n",
    "## Understand the data\n",
    "\n",
    "### `FuelConsumption.csv`:\n",
    "You will use a fuel consumption dataset, **`FuelConsumption.csv`**, which contains model-specific fuel consumption ratings and estimated carbon dioxide emissions for new light-duty vehicles for retail sale in Canada. [Dataset source](http://open.canada.ca/data/en/dataset/98f1a129-f628-4ce4-b24d-6f16bf24dd64).\n",
    "\n",
    "- **MODEL YEAR** e.g. 2014\n",
    "- **MAKE** e.g. VOLVO\n",
    "- **MODEL** e.g. S60 AWD\n",
    "- **VEHICLE CLASS** e.g. COMPACT\n",
    "- **ENGINE SIZE** e.g. 3.0\n",
    "- **CYLINDERS** e.g 6\n",
    "- **TRANSMISSION** e.g. AS6\n",
    "- **FUEL TYPE** e.g. Z\n",
    "- **FUEL CONSUMPTION in CITY(L/100 km)** e.g. 13.2\n",
    "- **FUEL CONSUMPTION in HWY (L/100 km)** e.g. 9.5\n",
    "- **FUEL CONSUMPTION COMBINED (L/100 km)** e.g. 11.5\n",
    "- **FUEL CONSUMPTION COMBINED MPG (MPG)** e.g. 25\n",
    "- **CO2 EMISSIONS (g/km)** e.g. 182 \n",
    "\n",
    "Your task will be to create a simple linear regression model from one of these features to predict CO2 emissions of unobserved cars based on that feature. \n"
   ]
  },
  {
   "cell_type": "markdown",
   "id": "c2157429-e2a8-436a-a312-ed0e3a0024c3",
   "metadata": {},
   "source": [
    "### Explore the data\n",
    "First, consider a statistical summary of the data.\n"
   ]
  },
  {
   "cell_type": "code",
   "execution_count": 5,
   "id": "86684ccb-664e-499f-b954-e5085c46712a",
   "metadata": {},
   "outputs": [
    {
     "data": {
      "text/html": [
       "<div>\n",
       "<style scoped>\n",
       "    .dataframe tbody tr th:only-of-type {\n",
       "        vertical-align: middle;\n",
       "    }\n",
       "\n",
       "    .dataframe tbody tr th {\n",
       "        vertical-align: top;\n",
       "    }\n",
       "\n",
       "    .dataframe thead th {\n",
       "        text-align: right;\n",
       "    }\n",
       "</style>\n",
       "<table border=\"1\" class=\"dataframe\">\n",
       "  <thead>\n",
       "    <tr style=\"text-align: right;\">\n",
       "      <th></th>\n",
       "      <th>MODELYEAR</th>\n",
       "      <th>ENGINESIZE</th>\n",
       "      <th>CYLINDERS</th>\n",
       "      <th>FUELCONSUMPTION_CITY</th>\n",
       "      <th>FUELCONSUMPTION_HWY</th>\n",
       "      <th>FUELCONSUMPTION_COMB</th>\n",
       "      <th>FUELCONSUMPTION_COMB_MPG</th>\n",
       "      <th>CO2EMISSIONS</th>\n",
       "    </tr>\n",
       "  </thead>\n",
       "  <tbody>\n",
       "    <tr>\n",
       "      <th>count</th>\n",
       "      <td>1067.0</td>\n",
       "      <td>1067.000000</td>\n",
       "      <td>1067.000000</td>\n",
       "      <td>1067.000000</td>\n",
       "      <td>1067.000000</td>\n",
       "      <td>1067.000000</td>\n",
       "      <td>1067.000000</td>\n",
       "      <td>1067.000000</td>\n",
       "    </tr>\n",
       "    <tr>\n",
       "      <th>mean</th>\n",
       "      <td>2014.0</td>\n",
       "      <td>3.346298</td>\n",
       "      <td>5.794752</td>\n",
       "      <td>13.296532</td>\n",
       "      <td>9.474602</td>\n",
       "      <td>11.580881</td>\n",
       "      <td>26.441425</td>\n",
       "      <td>256.228679</td>\n",
       "    </tr>\n",
       "    <tr>\n",
       "      <th>std</th>\n",
       "      <td>0.0</td>\n",
       "      <td>1.415895</td>\n",
       "      <td>1.797447</td>\n",
       "      <td>4.101253</td>\n",
       "      <td>2.794510</td>\n",
       "      <td>3.485595</td>\n",
       "      <td>7.468702</td>\n",
       "      <td>63.372304</td>\n",
       "    </tr>\n",
       "    <tr>\n",
       "      <th>min</th>\n",
       "      <td>2014.0</td>\n",
       "      <td>1.000000</td>\n",
       "      <td>3.000000</td>\n",
       "      <td>4.600000</td>\n",
       "      <td>4.900000</td>\n",
       "      <td>4.700000</td>\n",
       "      <td>11.000000</td>\n",
       "      <td>108.000000</td>\n",
       "    </tr>\n",
       "    <tr>\n",
       "      <th>25%</th>\n",
       "      <td>2014.0</td>\n",
       "      <td>2.000000</td>\n",
       "      <td>4.000000</td>\n",
       "      <td>10.250000</td>\n",
       "      <td>7.500000</td>\n",
       "      <td>9.000000</td>\n",
       "      <td>21.000000</td>\n",
       "      <td>207.000000</td>\n",
       "    </tr>\n",
       "    <tr>\n",
       "      <th>50%</th>\n",
       "      <td>2014.0</td>\n",
       "      <td>3.400000</td>\n",
       "      <td>6.000000</td>\n",
       "      <td>12.600000</td>\n",
       "      <td>8.800000</td>\n",
       "      <td>10.900000</td>\n",
       "      <td>26.000000</td>\n",
       "      <td>251.000000</td>\n",
       "    </tr>\n",
       "    <tr>\n",
       "      <th>75%</th>\n",
       "      <td>2014.0</td>\n",
       "      <td>4.300000</td>\n",
       "      <td>8.000000</td>\n",
       "      <td>15.550000</td>\n",
       "      <td>10.850000</td>\n",
       "      <td>13.350000</td>\n",
       "      <td>31.000000</td>\n",
       "      <td>294.000000</td>\n",
       "    </tr>\n",
       "    <tr>\n",
       "      <th>max</th>\n",
       "      <td>2014.0</td>\n",
       "      <td>8.400000</td>\n",
       "      <td>12.000000</td>\n",
       "      <td>30.200000</td>\n",
       "      <td>20.500000</td>\n",
       "      <td>25.800000</td>\n",
       "      <td>60.000000</td>\n",
       "      <td>488.000000</td>\n",
       "    </tr>\n",
       "  </tbody>\n",
       "</table>\n",
       "</div>"
      ],
      "text/plain": [
       "       MODELYEAR   ENGINESIZE    CYLINDERS  FUELCONSUMPTION_CITY  \\\n",
       "count     1067.0  1067.000000  1067.000000           1067.000000   \n",
       "mean      2014.0     3.346298     5.794752             13.296532   \n",
       "std          0.0     1.415895     1.797447              4.101253   \n",
       "min       2014.0     1.000000     3.000000              4.600000   \n",
       "25%       2014.0     2.000000     4.000000             10.250000   \n",
       "50%       2014.0     3.400000     6.000000             12.600000   \n",
       "75%       2014.0     4.300000     8.000000             15.550000   \n",
       "max       2014.0     8.400000    12.000000             30.200000   \n",
       "\n",
       "       FUELCONSUMPTION_HWY  FUELCONSUMPTION_COMB  FUELCONSUMPTION_COMB_MPG  \\\n",
       "count          1067.000000           1067.000000               1067.000000   \n",
       "mean              9.474602             11.580881                 26.441425   \n",
       "std               2.794510              3.485595                  7.468702   \n",
       "min               4.900000              4.700000                 11.000000   \n",
       "25%               7.500000              9.000000                 21.000000   \n",
       "50%               8.800000             10.900000                 26.000000   \n",
       "75%              10.850000             13.350000                 31.000000   \n",
       "max              20.500000             25.800000                 60.000000   \n",
       "\n",
       "       CO2EMISSIONS  \n",
       "count   1067.000000  \n",
       "mean     256.228679  \n",
       "std       63.372304  \n",
       "min      108.000000  \n",
       "25%      207.000000  \n",
       "50%      251.000000  \n",
       "75%      294.000000  \n",
       "max      488.000000  "
      ]
     },
     "execution_count": 5,
     "metadata": {},
     "output_type": "execute_result"
    }
   ],
   "source": [
    "df.describe()"
   ]
  },
  {
   "cell_type": "markdown",
   "id": "f031b2b7-1a7e-491c-9812-09f0eb42db13",
   "metadata": {},
   "source": [
    "You can see from the statistics here that 75% of the cars have a combined fuel consumption falling within a range of up to almost three times that of the most efficient car, with respective values of 31 MPG and 11 MPG. \n",
    "\n",
    "The highest fuel consumer at 60 MPG is suspiciously high but could be legitimate.\n",
    "\n",
    "MODELYEAR has 0 standard deviation, and thus has no interesting information content.\n"
   ]
  },
  {
   "cell_type": "markdown",
   "id": "3b34f0f0-ee56-441f-be34-8595de6e740d",
   "metadata": {},
   "source": [
    "#### Select features\n",
    "Select a few features that might be indicative of CO2 emission to explore more.\n"
   ]
  },
  {
   "cell_type": "code",
   "execution_count": null,
   "id": "66bb080f-3648-447b-b3a7-97d6eeb5dcb4",
   "metadata": {},
   "outputs": [],
   "source": [
    "cdf = df[['ENGINESIZE','CYLINDERS','FUELCONSUMPTION_COMB','CO2EMISSIONS']]\n",
    "cdf.sample(9)"
   ]
  },
  {
   "cell_type": "markdown",
   "id": "522b66d6-56a1-4561-98d9-cad64579194e",
   "metadata": {},
   "source": [
    "#### Visualize features\n",
    "Consider the histograms for each of these features.\n"
   ]
  },
  {
   "cell_type": "code",
   "execution_count": null,
   "id": "f8400cb6-5f6b-4410-af71-4f2d0b9edb8a",
   "metadata": {},
   "outputs": [],
   "source": [
    "viz = cdf[['CYLINDERS','ENGINESIZE','FUELCONSUMPTION_COMB','CO2EMISSIONS']]\n",
    "viz.hist()\n",
    "plt.show()"
   ]
  },
  {
   "cell_type": "markdown",
   "id": "7dc5678d-a399-4038-934d-32c30939660a",
   "metadata": {},
   "source": [
    "As you can see, most engines have 4, 6, or 8 cylinders, and engine sizes between 2 and 4 liters.  \n",
    "As you might expect, combined fuel consumption and CO2 emission have very similar distributions.  \n",
    "Go ahead and display some scatter plots of these features against the CO2 emissions, to see how linear their relationships are.\n"
   ]
  },
  {
   "cell_type": "code",
   "execution_count": null,
   "id": "50068aa7-841f-4b5a-8ddd-c3d136e17cf8",
   "metadata": {},
   "outputs": [],
   "source": [
    "plt.scatter(cdf.FUELCONSUMPTION_COMB, cdf.CO2EMISSIONS,  color='blue')\n",
    "plt.xlabel(\"FUELCONSUMPTION_COMB\")\n",
    "plt.ylabel(\"Emission\")\n",
    "plt.show()"
   ]
  },
  {
   "cell_type": "markdown",
   "id": "99b032ce-1790-4099-99c8-25b62b11cc31",
   "metadata": {},
   "source": [
    "This is an informative result. Three car groups each have a strong linear relationship between their combined fuel consumption and their CO2 emissions. \n",
    "Their intercepts are similar, while they noticeably differ in their slopes.\n"
   ]
  },
  {
   "cell_type": "code",
   "execution_count": null,
   "id": "377c796b-5e26-4cb7-af0f-5861169f8e88",
   "metadata": {},
   "outputs": [],
   "source": [
    "plt.scatter(cdf.ENGINESIZE, cdf.CO2EMISSIONS,  color='blue')\n",
    "plt.xlabel(\"Engine size\")\n",
    "plt.ylabel(\"Emission\")\n",
    "plt.xlim(0,27)\n",
    "plt.show()"
   ]
  },
  {
   "cell_type": "markdown",
   "id": "2063ef03-bfaa-4145-864d-72507329d9b0",
   "metadata": {},
   "source": [
    "Although the relationship between engine size and CO2 emission is quite linear, you can see that their correlation is weaker than that for each of the three fuel consumption groups. Notice that the x-axis range has been expanded to make the two plots more comparable.\n"
   ]
  },
  {
   "cell_type": "markdown",
   "id": "16ce78c2-4c79-42fb-a412-0abdcaba3fd0",
   "metadata": {},
   "source": [
    "#### Practice excercise 1\n",
    "Plot __CYLINDER__ against CO2 Emission, to see how linear their relationship is.\n"
   ]
  },
  {
   "cell_type": "code",
   "execution_count": null,
   "id": "3120c733-4640-4807-b180-6441c95d12c9",
   "metadata": {},
   "outputs": [],
   "source": [
    "# write your code here"
   ]
  },
  {
   "cell_type": "markdown",
   "id": "dce8551f-acfa-42e0-88ca-f7e39984ff63",
   "metadata": {},
   "source": [
    "<details><summary>Click here for the solution</summary>\n",
    "\n",
    "```python    \n",
    "plt.scatter(cdf.CYLINDERS, cdf.CO2EMISSIONS,  color='blue')\n",
    "plt.xlabel(\"CYLINDERS\")\n",
    "plt.ylabel(\"CO2 Emission\")\n",
    "plt.show()\n",
    "\n",
    "```\n",
    "\n",
    "</details>\n"
   ]
  },
  {
   "cell_type": "markdown",
   "id": "664b850e-5958-4ee8-b3ff-20f296aef849",
   "metadata": {},
   "source": [
    "### Extract the input feature and labels from the dataset\n",
    "Although perhaps not necessarily the ideal choice of input feature, for illustration purposes, you will use engine size to predict CO2 emission with a linear regression model.  \n",
    "You can begin the process by extracting the input feature and target output variables, X and y, from the dataset.\n"
   ]
  },
  {
   "cell_type": "code",
   "execution_count": null,
   "id": "b9851668-ad45-486e-854a-3965b674ebb0",
   "metadata": {},
   "outputs": [],
   "source": [
    "X = cdf.ENGINESIZE.to_numpy()\n",
    "y = cdf.CO2EMISSIONS.to_numpy()"
   ]
  },
  {
   "cell_type": "markdown",
   "id": "344fb980-cec0-4d2b-b590-6f05e158c4ed",
   "metadata": {},
   "source": [
    "#### Create train and test datasets\n",
    "Next, you will split the dataset into mutually exclusive training and testing sets. You will train a simple linear regression model on the training set and estimate its ability to generalize to unseen data by using it to make predictions on the unseen testing data. \n",
    "\n",
    "Since the outcome of each data point is part of the testing data, you have a means of evaluating the out-of-sample accuracy of your model.\n",
    "\n",
    "Now, you want to randomly split your data into train and test sets, using 80% of the dataset for training and reserving the remaining 20% for testing. Which fraction to use here mostly depends on the size of your data, but typical training sizes range from 20% to 30%. The smaller your data, the larger your training set needs to be because it's easier to find spurious patterns in smaller data. The downside is that your evaluation of generalizability will have less reliability. Bigger is better when it comes to data.\n"
   ]
  },
  {
   "cell_type": "code",
   "execution_count": null,
   "id": "3c14bde9-3f78-4a06-b4ee-82dc4dd9a6ec",
   "metadata": {},
   "outputs": [],
   "source": [
    "from sklearn.model_selection import train_test_split\n",
    "\n",
    "X_train, X_test, y_train, y_test = train_test_split(X,y,test_size=0.2,random_state=42)"
   ]
  },
  {
   "cell_type": "markdown",
   "id": "82526875-bb26-4978-9b90-483c88b9802c",
   "metadata": {},
   "source": [
    "The outputs are one-dimensional NumPy arrays or vectors.\n"
   ]
  },
  {
   "cell_type": "code",
   "execution_count": null,
   "id": "245a5062-6470-4ef5-9f91-d5beeacb1680",
   "metadata": {},
   "outputs": [],
   "source": [
    "type(X_train), np.shape(X_train), np.shape(X_train)"
   ]
  },
  {
   "cell_type": "markdown",
   "id": "6ca98b2a-59ab-4e6b-a221-d9a3f1d4b1e9",
   "metadata": {},
   "source": [
    "### Build a simple linear regression model\n",
    "\n",
    "You'll use scikit-learn to build your model as follows. See [Scikit-Learn Linear Regression documentation](https://scikit-learn.org/stable/modules/generated/sklearn.linear_model.LinearRegression.html) to learn all about the linear model predictor object.\n"
   ]
  },
  {
   "cell_type": "code",
   "execution_count": null,
   "id": "8d331c1f-f6d9-42d4-ad5b-102f362ae084",
   "metadata": {},
   "outputs": [],
   "source": [
    "from sklearn import linear_model\n",
    "\n",
    "# create a model object\n",
    "regressor = linear_model.LinearRegression()\n",
    "\n",
    "# train the model on the training data\n",
    "# X_train is a 1-D array but sklearn models expect a 2D array as input for the training data, with shape (n_observations, n_features).\n",
    "# So we need to reshape it. We can let it infer the number of observations using '-1'.\n",
    "regressor.fit(X_train.reshape(-1, 1), y_train)\n",
    "\n",
    "# Print the coefficients\n",
    "print ('Coefficients: ', regressor.coef_[0]) # with simple linear regression there is only one coefficient, here we extract it from the 1 by 1 array.\n",
    "print ('Intercept: ',regressor.intercept_)"
   ]
  },
  {
   "cell_type": "markdown",
   "id": "e7ff4c26-dfd7-43af-ba3a-16a36c1efed3",
   "metadata": {},
   "source": [
    "Here, __Coefficient__ and __Intercept__ are the regression parameters determined by the model.  \n",
    "They define the slope and intercept of the 'best-fit' line to the training data. \n"
   ]
  },
  {
   "cell_type": "markdown",
   "id": "cc2b41e0-120a-4e95-82d0-8cf4db51f8f3",
   "metadata": {},
   "source": [
    "### Visualize model outputs\n"
   ]
  },
  {
   "cell_type": "markdown",
   "id": "1c86771f-99a5-4f0d-908f-828e29435d83",
   "metadata": {},
   "source": [
    "You can visualize the goodness-of-fit of the model to the training data by plotting the fitted line over the data.\n",
    "\n",
    "The regression model is the line given by y = intercept + coefficient * x.\n"
   ]
  },
  {
   "cell_type": "code",
   "execution_count": null,
   "id": "daddf573-287c-4216-9ae3-2eec1b45c822",
   "metadata": {},
   "outputs": [],
   "source": [
    "plt.scatter(X_train, y_train,  color='blue')\n",
    "plt.plot(X_train, regressor.coef_ * X_train + regressor.intercept_, '-r')\n",
    "plt.xlabel(\"Engine size\")\n",
    "plt.ylabel(\"Emission\")"
   ]
  },
  {
   "cell_type": "markdown",
   "id": "1badd9f6-ca66-4e17-8407-b273c27ced72",
   "metadata": {},
   "source": [
    "#### Model evaluation\n",
    "You can compare the actual values and predicted values to calculate the accuracy of a regression model. Evaluation metrics play a key role in the development of a model, as they provide insight into areas that require improvement.\n",
    "\n",
    "There are different model evaluation metrics, let's use MSE here to calculate the accuracy of our model based on the test set: \n",
    "* Mean Absolute Error: It is the mean of the absolute value of the errors. This is the easiest of the metrics to understand since it’s just an average error.\n",
    "\n",
    "* Mean Squared Error (MSE): MSE is the mean of the squared error. In fact, it's the metric used by the model to find the best fit line, and for that reason, it is also called the residual sum of squares.\n",
    "\n",
    "* Root Mean Squared Error (RMSE). RMSE simply transforms the MSE into the same units as the variables being compared, which can make it easier to interpret.\n",
    "\n",
    "* R-squared is not an error but rather a popular metric used to estimate the performance of your regression model. It represents how close the data points are to the fitted regression line. The higher the R-squared value, the better the model fits your data. The best possible score is 1.0 and it can be negative (because the model can be arbitrarily worse).\n"
   ]
  },
  {
   "cell_type": "code",
   "execution_count": null,
   "id": "fb9fd978-fb07-41d7-b187-fd295c0122f0",
   "metadata": {},
   "outputs": [],
   "source": [
    "from sklearn.metrics import mean_absolute_error, mean_squared_error, root_mean_squared_error, r2_score\n",
    "\n",
    "# Use the predict method to make test predictions\n",
    "y_test_ = regressor.predict( X_test.reshape(-1,1))\n",
    "\n",
    "print(\"Mean absolute error: %.2f\" % mean_absolute_error(y_test_, y_test))\n",
    "print(\"Mean squared error: %.2f\" % mean_squared_error(y_test_, y_test))\n",
    "print(\"Root mean squared error: %.2f\" % root_mean_squared_error(y_test_, y_test))\n",
    "print(\"R2-score: %.2f\" % r2_score( y_test_, y_test) )"
   ]
  },
  {
   "cell_type": "markdown",
   "id": "7b2531c7-e698-40f9-b4ea-2af875c99254",
   "metadata": {},
   "source": [
    "## Practice exercises\n"
   ]
  },
  {
   "cell_type": "markdown",
   "id": "4cfe4f06-1d3e-4288-8170-6352d30a99bf",
   "metadata": {},
   "source": [
    "#### 1. Plot the regression model result over the test data instead of the training data. Visually evaluate whether the result is good.\n"
   ]
  },
  {
   "cell_type": "code",
   "execution_count": null,
   "id": "401c1d7b-e910-4f3f-8182-4f2972f68e2d",
   "metadata": {},
   "outputs": [],
   "source": [
    "plt.scatter(...)    #ADD CODE"
   ]
  },
  {
   "cell_type": "markdown",
   "id": "da88b45f-c6d7-4c29-b3fd-6167ed774e64",
   "metadata": {},
   "source": [
    "<details><summary>Click here for the solution</summary>\n",
    "\n",
    "```python    \n",
    "plt.scatter(X_test, y_test,  color='blue')\n",
    "plt.plot(X_test, regressor.coef_ * X_test + regressor.intercept_, '-r')\n",
    "plt.xlabel(\"Engine size\")\n",
    "plt.ylabel(\"Emission\")\n",
    "```\n",
    "\n",
    "</details>\n"
   ]
  },
  {
   "cell_type": "markdown",
   "id": "0e94e2da-ce13-4929-9100-ad54e4c11084",
   "metadata": {},
   "source": [
    "Let's see the evaluation metrics if you train a regression model using the `FUELCONSUMPTION_COMB` feature.\n",
    "\n",
    "#### 2. Select the fuel consumption feature from the dataframe and split the data 80%/20% into training and testing sets. \n",
    "Use the same random state as previously so you can make an objective comparison to the previous training result.\n"
   ]
  },
  {
   "cell_type": "code",
   "execution_count": null,
   "id": "c811f37b-be49-4773-80c8-1d35dba39cf8",
   "metadata": {},
   "outputs": [],
   "source": [
    "X = # ADD CODE\n",
    "\n",
    "X_train, X_test, y_train, y_test = #ADD CODE\n"
   ]
  },
  {
   "cell_type": "markdown",
   "id": "f4161771-9f86-4082-843b-b8e8f2f211c3",
   "metadata": {},
   "source": [
    "<details><summary>Click here for the solution</summary>\n",
    "\n",
    "```python    \n",
    "X = cdf.FUELCONSUMPTION_COMB.to_numpy()\n",
    "X_train, X_test, y_train, y_test = train_test_split(X,y,test_size=0.2,random_state=42)\n",
    "```\n",
    "\n",
    "</details>\n"
   ]
  },
  {
   "cell_type": "markdown",
   "id": "e289a42e-269c-4228-96cf-82d4a53e181c",
   "metadata": {},
   "source": [
    "#### 3.  Train a linear regression model using the training data you created.\n",
    "Remember to transform your 1D feature into a 2D array. \n"
   ]
  },
  {
   "cell_type": "code",
   "execution_count": null,
   "id": "cd7672f9-e58c-4fea-b0d0-770ac5173ef4",
   "metadata": {},
   "outputs": [],
   "source": [
    "regr = linear_model.# ADD CODE\n",
    "\n",
    "#ADD CODE\n"
   ]
  },
  {
   "cell_type": "markdown",
   "id": "ce32eb7b-4d22-4af6-b491-7781cafaff34",
   "metadata": {},
   "source": [
    "<details><summary>Click here for the solution</summary>\n",
    "\n",
    "```python    \n",
    "regr = linear_model.LinearRegression()\n",
    "regr.fit(X_train.reshape(-1, 1), y_train)\n",
    "\n",
    "```\n",
    "\n",
    "</details>\n"
   ]
  },
  {
   "cell_type": "markdown",
   "id": "488eff16-cd58-4930-9564-89219722bd88",
   "metadata": {},
   "source": [
    "#### 4. Use the model to make test predictions on the fuel consumption testing data.\n"
   ]
  },
  {
   "cell_type": "code",
   "execution_count": null,
   "id": "0bdd9a81-736a-46fb-a78c-8948ab620be6",
   "metadata": {},
   "outputs": [],
   "source": [
    "y = # ADD CODE"
   ]
  },
  {
   "cell_type": "markdown",
   "id": "bd3076c3-110f-4e6e-9036-deadff4c3584",
   "metadata": {},
   "source": [
    "<details><summary>Click here for the solution</summary>\n",
    "\n",
    "```python    \n",
    "y_test_ = regr.predict(X_test.reshape(-1,1))\n",
    "\n",
    "```\n",
    "\n",
    "</details>\n"
   ]
  },
  {
   "cell_type": "markdown",
   "id": "14ce16fa-3f99-498f-83a5-33572dc52a57",
   "metadata": {},
   "source": [
    "#### 5. Calculate and print the Mean Squared Error of the test predictions.\n"
   ]
  },
  {
   "cell_type": "code",
   "execution_count": null,
   "id": "a3122d17-5568-4a75-ace0-a150771ebc3f",
   "metadata": {},
   "outputs": [],
   "source": [
    "# ADD CODE"
   ]
  },
  {
   "cell_type": "markdown",
   "id": "04a66a44-d7f3-4896-9d16-0692bd4bd954",
   "metadata": {},
   "source": [
    "<details><summary>Click here for the solution</summary>\n",
    "\n",
    "```python    \n",
    "print(\"Mean squared error: %.2f\" % mean_squared_error(y_test_, y_test))\n",
    "```\n",
    "\n",
    "</details>\n"
   ]
  },
  {
   "cell_type": "markdown",
   "id": "e25c2595-0671-489e-85a8-96262ecc98ba",
   "metadata": {},
   "source": [
    "As you might expect from your exploratory analysis, the MSE is smaller when we train using `FUELCONSUMPTION_COMB` rather than `ENGINESIZE`.\n"
   ]
  },
  {
   "cell_type": "markdown",
   "id": "3e202e48-3c74-4fdf-8de5-658b864423fa",
   "metadata": {},
   "source": [
    "### Congratulations! You're ready to move on to your next lesson.\n",
    " \n",
    " \n",
    "## Author\n",
    "<a href=\"https://www.linkedin.com/in/jpgrossman/\" target=\"_blank\">Jeff Grossman</a>  \n",
    " \n",
    " ### Other Contributors\n",
    " <a href=\"https://www.linkedin.com/in/abhishek-gagneja-23051987/\" target=\"_blank\">Abhishek Gagneja</a>\n",
    "\n",
    " ## <h3 align=\"center\"> © IBM Corporation. All rights reserved. <h3/>\n",
    "\n",
    "<!--\n",
    "## Changelog\n",
    "| Date | Version | Changed by | Change Description |\n",
    "|------------|------|------------------|---------------------------------------|\n",
    "| 2024-07-26 | 3.0  | Jeff Grossman    | Update content and practice exercises |\n",
    "| 2020-11-03 | 2.1  | Lakshmi Holla    | Change URL of the csv |\n",
    "| 2020-08-27 | 2.0  | Lavanya          | Move lab to course repo in GitLab |\n",
    "\n"
   ]
  },
  {
   "cell_type": "code",
   "execution_count": null,
   "id": "ec1d51ac-6245-4af4-8e8a-59c43be8656b",
   "metadata": {},
   "outputs": [],
   "source": []
  }
 ],
 "metadata": {
  "kernelspec": {
   "display_name": "Python 3",
   "language": "python",
   "name": "python3"
  },
  "language_info": {
   "codemirror_mode": {
    "name": "ipython",
    "version": 3
   },
   "file_extension": ".py",
   "mimetype": "text/x-python",
   "name": "python",
   "nbconvert_exporter": "python",
   "pygments_lexer": "ipython3",
   "version": "3.11.5"
  },
  "prev_pub_hash": "b9b9ee272aeebd4a82a0234fc2aecd0875e039855be2d5ddd1c1735f413137bc"
 },
 "nbformat": 4,
 "nbformat_minor": 4
}
